{
 "cells": [
  {
   "cell_type": "code",
   "execution_count": 8,
   "id": "009dc46b-33e3-4475-8879-654fa2569185",
   "metadata": {},
   "outputs": [],
   "source": [
    "from qsiprep.utils.spaces import Reference, SpatialReferences\n",
    "from templateflow import api as _tfapi"
   ]
  },
  {
   "cell_type": "code",
   "execution_count": null,
   "id": "bca0e9aa-9bca-4a4b-9bc4-960b8e5c0cff",
   "metadata": {},
   "outputs": [],
   "source": []
  },
  {
   "cell_type": "code",
   "execution_count": 2,
   "id": "580d8cb8-7478-486a-80ea-e0b71f09de04",
   "metadata": {},
   "outputs": [],
   "source": [
    "spaces = \"ACPC:res-nativemin:res-nativemax MNI152NLin6Asym MNIInfant:cohort-2:cohort-3\"\n",
    "spaces = SpatialReferences(\n",
    "    [ref for s in spaces.split(' ') for ref in Reference.from_string(s)]\n",
    ")\n",
    "for space in spaces.references:\n",
    "    if space.space != \"ACPC\":\n",
    "        resolution_specified = bool(space.spec.get(\"res\"))\n",
    "        if resolution_specified:\n",
    "            raise ValueError(f\"Resolution cannot be specified for space '{space.space}'\")\n",
    "    else:\n",
    "        resolution_specified = bool(space.spec.get(\"res\"))\n",
    "        if not resolution_specified:\n",
    "            print(f\"Resolution not specified for space {space.space}. Defaulting to nativemax.\")\n",
    "            space.spec[\"res\"] = \"nativemax\""
   ]
  },
  {
   "cell_type": "code",
   "execution_count": 14,
   "id": "5646b586-e3ac-4060-bcab-da2290457edb",
   "metadata": {},
   "outputs": [
    {
     "name": "stdout",
     "output_type": "stream",
     "text": [
      "Standard space \"MNIInfant\" is not fully defined.\n",
      "QSIPrep will attempt to infer the appropriate cohort from the participant age from \"cohort-1\", \"cohort-10\", \"cohort-11\", \"cohort-2\", \"cohort-3\", \"cohort-4\", \"cohort-5\", \"cohort-6\", \"cohort-7\", \"cohort-8\", \"cohort-9\".\n",
      "False\n",
      "False\n",
      "True\n"
     ]
    }
   ],
   "source": [
    "spaces = \"ACPC:res-0.75 MNI152NLin6Asym MNIInfant\"\n",
    "spaces = SpatialReferences(\n",
    "    [ref for s in spaces.split(' ') for ref in Reference.from_string(s)]\n",
    ")\n",
    "acpc_spaces = [space for space in spaces.references if space.space == \"ACPC\"]\n",
    "if len(acpc_spaces) > 1:\n",
    "    raise ValueError(\"Specifying ACPC space with multiple resolutions is not currently supported.\")\n",
    "\n",
    "for space in spaces.references:\n",
    "    if space.space != \"ACPC\":\n",
    "        resolution_specified = bool(space.spec.get(\"res\"))\n",
    "        if resolution_specified:\n",
    "            raise ValueError(f\"Resolution cannot be specified for space '{space.space}'\")\n",
    "    else:\n",
    "        resolution_specified = bool(space.spec.get(\"res\"))\n",
    "        if not resolution_specified:\n",
    "            print(f\"Resolution not specified for space {space.space}. Defaulting to nativemax.\")\n",
    "            space.spec[\"res\"] = \"nativemax\"\n",
    "\n",
    "    if space.dim != 3:\n",
    "        raise ValueError(f\"Space '{space.space}' is {space.dim}D, which is not supported in QSIPrep.\")\n",
    "\n",
    "    if not space.standard and space.space != \"ACPC\":\n",
    "        raise ValueError(f\"Non-standard space '{space.space}' is not supported.\")\n",
    "    \n",
    "    needs_cohort = bool(_tfapi.TF_LAYOUT.get_cohorts(template=space.space)) and 'cohort' not in space.spec\n",
    "    print(needs_cohort)\n"
   ]
  },
  {
   "cell_type": "code",
   "execution_count": 4,
   "id": "751eae7a-09ff-4b4a-bc91-3d0353f6db39",
   "metadata": {},
   "outputs": [],
   "source": [
    "spaces.checkpoint()"
   ]
  },
  {
   "cell_type": "code",
   "execution_count": 15,
   "id": "c85e72b5-493f-4d2b-96f0-352fa8cf594e",
   "metadata": {},
   "outputs": [
    {
     "data": {
      "text/plain": [
       "[Reference(space='ACPC', spec={'res': '0.75'}),\n",
       " Reference(space='MNI152NLin6Asym', spec={}),\n",
       " Reference(space='MNIInfant', spec={})]"
      ]
     },
     "execution_count": 15,
     "metadata": {},
     "output_type": "execute_result"
    }
   ],
   "source": [
    "spaces.references"
   ]
  },
  {
   "cell_type": "code",
   "execution_count": null,
   "id": "e95273f4-f987-4001-ad50-007c395dc158",
   "metadata": {},
   "outputs": [],
   "source": []
  },
  {
   "cell_type": "code",
   "execution_count": null,
   "id": "ff73bc50-6b4c-42bf-b534-538c480047e6",
   "metadata": {},
   "outputs": [],
   "source": []
  }
 ],
 "metadata": {
  "kernelspec": {
   "display_name": "Python 3 (ipykernel)",
   "language": "python",
   "name": "python3"
  },
  "language_info": {
   "codemirror_mode": {
    "name": "ipython",
    "version": 3
   },
   "file_extension": ".py",
   "mimetype": "text/x-python",
   "name": "python",
   "nbconvert_exporter": "python",
   "pygments_lexer": "ipython3",
   "version": "3.10.13"
  }
 },
 "nbformat": 4,
 "nbformat_minor": 5
}
